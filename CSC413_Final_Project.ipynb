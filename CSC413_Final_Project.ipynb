{
  "nbformat": 4,
  "nbformat_minor": 0,
  "metadata": {
    "colab": {
      "provenance": [],
      "include_colab_link": true
    },
    "kernelspec": {
      "name": "python3",
      "display_name": "Python 3"
    },
    "language_info": {
      "name": "python"
    },
    "accelerator": "GPU",
    "gpuClass": "standard",
    "widgets": {
      "application/vnd.jupyter.widget-state+json": {
        "91259bf8567d45848d98913c60cb8717": {
          "model_module": "@jupyter-widgets/controls",
          "model_name": "HBoxModel",
          "model_module_version": "1.5.0",
          "state": {
            "_dom_classes": [],
            "_model_module": "@jupyter-widgets/controls",
            "_model_module_version": "1.5.0",
            "_model_name": "HBoxModel",
            "_view_count": null,
            "_view_module": "@jupyter-widgets/controls",
            "_view_module_version": "1.5.0",
            "_view_name": "HBoxView",
            "box_style": "",
            "children": [
              "IPY_MODEL_f39b03cdb09242c8bbfda3d745594219",
              "IPY_MODEL_a3db14a2faad4768981b2b7a70c3c038",
              "IPY_MODEL_4b4577a8c2a7489eba6739b5e1148bea"
            ],
            "layout": "IPY_MODEL_e49a9531c3bf42f0a42be60b37aaca72"
          }
        },
        "f39b03cdb09242c8bbfda3d745594219": {
          "model_module": "@jupyter-widgets/controls",
          "model_name": "HTMLModel",
          "model_module_version": "1.5.0",
          "state": {
            "_dom_classes": [],
            "_model_module": "@jupyter-widgets/controls",
            "_model_module_version": "1.5.0",
            "_model_name": "HTMLModel",
            "_view_count": null,
            "_view_module": "@jupyter-widgets/controls",
            "_view_module_version": "1.5.0",
            "_view_name": "HTMLView",
            "description": "",
            "description_tooltip": null,
            "layout": "IPY_MODEL_d3a13b29bd964f96bffecbac0606c6e8",
            "placeholder": "​",
            "style": "IPY_MODEL_a706d8e4792249b8addc0175f1f98aed",
            "value": "100%"
          }
        },
        "a3db14a2faad4768981b2b7a70c3c038": {
          "model_module": "@jupyter-widgets/controls",
          "model_name": "FloatProgressModel",
          "model_module_version": "1.5.0",
          "state": {
            "_dom_classes": [],
            "_model_module": "@jupyter-widgets/controls",
            "_model_module_version": "1.5.0",
            "_model_name": "FloatProgressModel",
            "_view_count": null,
            "_view_module": "@jupyter-widgets/controls",
            "_view_module_version": "1.5.0",
            "_view_name": "ProgressView",
            "bar_style": "success",
            "description": "",
            "description_tooltip": null,
            "layout": "IPY_MODEL_82446e3116c9489ab3af45f7c753790d",
            "max": 1,
            "min": 0,
            "orientation": "horizontal",
            "style": "IPY_MODEL_a47dccd607a84627adc49415c2469339",
            "value": 1
          }
        },
        "4b4577a8c2a7489eba6739b5e1148bea": {
          "model_module": "@jupyter-widgets/controls",
          "model_name": "HTMLModel",
          "model_module_version": "1.5.0",
          "state": {
            "_dom_classes": [],
            "_model_module": "@jupyter-widgets/controls",
            "_model_module_version": "1.5.0",
            "_model_name": "HTMLModel",
            "_view_count": null,
            "_view_module": "@jupyter-widgets/controls",
            "_view_module_version": "1.5.0",
            "_view_name": "HTMLView",
            "description": "",
            "description_tooltip": null,
            "layout": "IPY_MODEL_b2581ccf3ad84abfa7d4ae456a1cab60",
            "placeholder": "​",
            "style": "IPY_MODEL_ba39da4ad4284b4a84cbe1428ffbdcc1",
            "value": " 1/1 [00:00&lt;00:00, 46.65it/s]"
          }
        },
        "e49a9531c3bf42f0a42be60b37aaca72": {
          "model_module": "@jupyter-widgets/base",
          "model_name": "LayoutModel",
          "model_module_version": "1.2.0",
          "state": {
            "_model_module": "@jupyter-widgets/base",
            "_model_module_version": "1.2.0",
            "_model_name": "LayoutModel",
            "_view_count": null,
            "_view_module": "@jupyter-widgets/base",
            "_view_module_version": "1.2.0",
            "_view_name": "LayoutView",
            "align_content": null,
            "align_items": null,
            "align_self": null,
            "border": null,
            "bottom": null,
            "display": null,
            "flex": null,
            "flex_flow": null,
            "grid_area": null,
            "grid_auto_columns": null,
            "grid_auto_flow": null,
            "grid_auto_rows": null,
            "grid_column": null,
            "grid_gap": null,
            "grid_row": null,
            "grid_template_areas": null,
            "grid_template_columns": null,
            "grid_template_rows": null,
            "height": null,
            "justify_content": null,
            "justify_items": null,
            "left": null,
            "margin": null,
            "max_height": null,
            "max_width": null,
            "min_height": null,
            "min_width": null,
            "object_fit": null,
            "object_position": null,
            "order": null,
            "overflow": null,
            "overflow_x": null,
            "overflow_y": null,
            "padding": null,
            "right": null,
            "top": null,
            "visibility": null,
            "width": null
          }
        },
        "d3a13b29bd964f96bffecbac0606c6e8": {
          "model_module": "@jupyter-widgets/base",
          "model_name": "LayoutModel",
          "model_module_version": "1.2.0",
          "state": {
            "_model_module": "@jupyter-widgets/base",
            "_model_module_version": "1.2.0",
            "_model_name": "LayoutModel",
            "_view_count": null,
            "_view_module": "@jupyter-widgets/base",
            "_view_module_version": "1.2.0",
            "_view_name": "LayoutView",
            "align_content": null,
            "align_items": null,
            "align_self": null,
            "border": null,
            "bottom": null,
            "display": null,
            "flex": null,
            "flex_flow": null,
            "grid_area": null,
            "grid_auto_columns": null,
            "grid_auto_flow": null,
            "grid_auto_rows": null,
            "grid_column": null,
            "grid_gap": null,
            "grid_row": null,
            "grid_template_areas": null,
            "grid_template_columns": null,
            "grid_template_rows": null,
            "height": null,
            "justify_content": null,
            "justify_items": null,
            "left": null,
            "margin": null,
            "max_height": null,
            "max_width": null,
            "min_height": null,
            "min_width": null,
            "object_fit": null,
            "object_position": null,
            "order": null,
            "overflow": null,
            "overflow_x": null,
            "overflow_y": null,
            "padding": null,
            "right": null,
            "top": null,
            "visibility": null,
            "width": null
          }
        },
        "a706d8e4792249b8addc0175f1f98aed": {
          "model_module": "@jupyter-widgets/controls",
          "model_name": "DescriptionStyleModel",
          "model_module_version": "1.5.0",
          "state": {
            "_model_module": "@jupyter-widgets/controls",
            "_model_module_version": "1.5.0",
            "_model_name": "DescriptionStyleModel",
            "_view_count": null,
            "_view_module": "@jupyter-widgets/base",
            "_view_module_version": "1.2.0",
            "_view_name": "StyleView",
            "description_width": ""
          }
        },
        "82446e3116c9489ab3af45f7c753790d": {
          "model_module": "@jupyter-widgets/base",
          "model_name": "LayoutModel",
          "model_module_version": "1.2.0",
          "state": {
            "_model_module": "@jupyter-widgets/base",
            "_model_module_version": "1.2.0",
            "_model_name": "LayoutModel",
            "_view_count": null,
            "_view_module": "@jupyter-widgets/base",
            "_view_module_version": "1.2.0",
            "_view_name": "LayoutView",
            "align_content": null,
            "align_items": null,
            "align_self": null,
            "border": null,
            "bottom": null,
            "display": null,
            "flex": null,
            "flex_flow": null,
            "grid_area": null,
            "grid_auto_columns": null,
            "grid_auto_flow": null,
            "grid_auto_rows": null,
            "grid_column": null,
            "grid_gap": null,
            "grid_row": null,
            "grid_template_areas": null,
            "grid_template_columns": null,
            "grid_template_rows": null,
            "height": null,
            "justify_content": null,
            "justify_items": null,
            "left": null,
            "margin": null,
            "max_height": null,
            "max_width": null,
            "min_height": null,
            "min_width": null,
            "object_fit": null,
            "object_position": null,
            "order": null,
            "overflow": null,
            "overflow_x": null,
            "overflow_y": null,
            "padding": null,
            "right": null,
            "top": null,
            "visibility": null,
            "width": null
          }
        },
        "a47dccd607a84627adc49415c2469339": {
          "model_module": "@jupyter-widgets/controls",
          "model_name": "ProgressStyleModel",
          "model_module_version": "1.5.0",
          "state": {
            "_model_module": "@jupyter-widgets/controls",
            "_model_module_version": "1.5.0",
            "_model_name": "ProgressStyleModel",
            "_view_count": null,
            "_view_module": "@jupyter-widgets/base",
            "_view_module_version": "1.2.0",
            "_view_name": "StyleView",
            "bar_color": null,
            "description_width": ""
          }
        },
        "b2581ccf3ad84abfa7d4ae456a1cab60": {
          "model_module": "@jupyter-widgets/base",
          "model_name": "LayoutModel",
          "model_module_version": "1.2.0",
          "state": {
            "_model_module": "@jupyter-widgets/base",
            "_model_module_version": "1.2.0",
            "_model_name": "LayoutModel",
            "_view_count": null,
            "_view_module": "@jupyter-widgets/base",
            "_view_module_version": "1.2.0",
            "_view_name": "LayoutView",
            "align_content": null,
            "align_items": null,
            "align_self": null,
            "border": null,
            "bottom": null,
            "display": null,
            "flex": null,
            "flex_flow": null,
            "grid_area": null,
            "grid_auto_columns": null,
            "grid_auto_flow": null,
            "grid_auto_rows": null,
            "grid_column": null,
            "grid_gap": null,
            "grid_row": null,
            "grid_template_areas": null,
            "grid_template_columns": null,
            "grid_template_rows": null,
            "height": null,
            "justify_content": null,
            "justify_items": null,
            "left": null,
            "margin": null,
            "max_height": null,
            "max_width": null,
            "min_height": null,
            "min_width": null,
            "object_fit": null,
            "object_position": null,
            "order": null,
            "overflow": null,
            "overflow_x": null,
            "overflow_y": null,
            "padding": null,
            "right": null,
            "top": null,
            "visibility": null,
            "width": null
          }
        },
        "ba39da4ad4284b4a84cbe1428ffbdcc1": {
          "model_module": "@jupyter-widgets/controls",
          "model_name": "DescriptionStyleModel",
          "model_module_version": "1.5.0",
          "state": {
            "_model_module": "@jupyter-widgets/controls",
            "_model_module_version": "1.5.0",
            "_model_name": "DescriptionStyleModel",
            "_view_count": null,
            "_view_module": "@jupyter-widgets/base",
            "_view_module_version": "1.2.0",
            "_view_name": "StyleView",
            "description_width": ""
          }
        }
      }
    }
  },
  "cells": [
    {
      "cell_type": "markdown",
      "metadata": {
        "id": "view-in-github",
        "colab_type": "text"
      },
      "source": [
        "<a href=\"https://colab.research.google.com/github/pinnouse/zeroshot-unsurpervised-mt/blob/main/CSC413_Final_Project.ipynb\" target=\"_parent\"><img src=\"https://colab.research.google.com/assets/colab-badge.svg\" alt=\"Open In Colab\"/></a>"
      ]
    },
    {
      "cell_type": "code",
      "execution_count": null,
      "metadata": {
        "id": "QfiQJ3HYviGL",
        "colab": {
          "base_uri": "https://localhost:8080/"
        },
        "outputId": "7be22b09-71c1-46d7-80ae-90962b11bddc"
      },
      "outputs": [
        {
          "output_type": "stream",
          "name": "stdout",
          "text": [
            "Looking in indexes: https://pypi.org/simple, https://us-python.pkg.dev/colab-wheels/public/simple/\n",
            "Requirement already satisfied: apache_beam in /usr/local/lib/python3.9/dist-packages (2.46.0)\n",
            "Requirement already satisfied: mwparserfromhell in /usr/local/lib/python3.9/dist-packages (0.6.4)\n",
            "Requirement already satisfied: fasteners<1.0,>=0.3 in /usr/local/lib/python3.9/dist-packages (from apache_beam) (0.18)\n",
            "Requirement already satisfied: python-dateutil<3,>=2.8.0 in /usr/local/lib/python3.9/dist-packages (from apache_beam) (2.8.2)\n",
            "Requirement already satisfied: fastavro<2,>=0.23.6 in /usr/local/lib/python3.9/dist-packages (from apache_beam) (1.7.3)\n",
            "Requirement already satisfied: pyarrow<10.0.0,>=3.0.0 in /usr/local/lib/python3.9/dist-packages (from apache_beam) (9.0.0)\n",
            "Requirement already satisfied: protobuf<4,>3.12.2 in /usr/local/lib/python3.9/dist-packages (from apache_beam) (3.19.6)\n",
            "Requirement already satisfied: hdfs<3.0.0,>=2.1.0 in /usr/local/lib/python3.9/dist-packages (from apache_beam) (2.7.0)\n",
            "Requirement already satisfied: numpy<1.25.0,>=1.14.3 in /usr/local/lib/python3.9/dist-packages (from apache_beam) (1.22.4)\n",
            "Requirement already satisfied: regex>=2020.6.8 in /usr/local/lib/python3.9/dist-packages (from apache_beam) (2022.10.31)\n",
            "Requirement already satisfied: requests<3.0.0,>=2.24.0 in /usr/local/lib/python3.9/dist-packages (from apache_beam) (2.27.1)\n",
            "Collecting dill<0.3.2,>=0.3.1.1\n",
            "  Using cached dill-0.3.1.1-py3-none-any.whl\n",
            "Requirement already satisfied: proto-plus<2,>=1.7.1 in /usr/local/lib/python3.9/dist-packages (from apache_beam) (1.22.2)\n",
            "Requirement already satisfied: pymongo<4.0.0,>=3.8.0 in /usr/local/lib/python3.9/dist-packages (from apache_beam) (3.13.0)\n",
            "Requirement already satisfied: zstandard<1,>=0.18.0 in /usr/local/lib/python3.9/dist-packages (from apache_beam) (0.20.0)\n",
            "Requirement already satisfied: grpcio!=1.48.0,<2,>=1.33.1 in /usr/local/lib/python3.9/dist-packages (from apache_beam) (1.51.3)\n",
            "Requirement already satisfied: orjson<4.0 in /usr/local/lib/python3.9/dist-packages (from apache_beam) (3.8.8)\n",
            "Requirement already satisfied: httplib2<0.22.0,>=0.8 in /usr/local/lib/python3.9/dist-packages (from apache_beam) (0.21.0)\n",
            "Requirement already satisfied: objsize<0.7.0,>=0.6.1 in /usr/local/lib/python3.9/dist-packages (from apache_beam) (0.6.1)\n",
            "Requirement already satisfied: typing-extensions>=3.7.0 in /usr/local/lib/python3.9/dist-packages (from apache_beam) (4.5.0)\n",
            "Requirement already satisfied: cloudpickle~=2.2.1 in /usr/local/lib/python3.9/dist-packages (from apache_beam) (2.2.1)\n",
            "Requirement already satisfied: pydot<2,>=1.2.0 in /usr/local/lib/python3.9/dist-packages (from apache_beam) (1.4.2)\n",
            "Requirement already satisfied: pytz>=2018.3 in /usr/local/lib/python3.9/dist-packages (from apache_beam) (2022.7.1)\n",
            "Requirement already satisfied: crcmod<2.0,>=1.7 in /usr/local/lib/python3.9/dist-packages (from apache_beam) (1.7)\n",
            "Requirement already satisfied: docopt in /usr/local/lib/python3.9/dist-packages (from hdfs<3.0.0,>=2.1.0->apache_beam) (0.6.2)\n",
            "Requirement already satisfied: six>=1.9.0 in /usr/local/lib/python3.9/dist-packages (from hdfs<3.0.0,>=2.1.0->apache_beam) (1.16.0)\n",
            "Requirement already satisfied: pyparsing!=3.0.0,!=3.0.1,!=3.0.2,!=3.0.3,<4,>=2.4.2 in /usr/local/lib/python3.9/dist-packages (from httplib2<0.22.0,>=0.8->apache_beam) (3.0.9)\n",
            "Requirement already satisfied: charset-normalizer~=2.0.0 in /usr/local/lib/python3.9/dist-packages (from requests<3.0.0,>=2.24.0->apache_beam) (2.0.12)\n",
            "Requirement already satisfied: certifi>=2017.4.17 in /usr/local/lib/python3.9/dist-packages (from requests<3.0.0,>=2.24.0->apache_beam) (2022.12.7)\n",
            "Requirement already satisfied: idna<4,>=2.5 in /usr/local/lib/python3.9/dist-packages (from requests<3.0.0,>=2.24.0->apache_beam) (3.4)\n",
            "Requirement already satisfied: urllib3<1.27,>=1.21.1 in /usr/local/lib/python3.9/dist-packages (from requests<3.0.0,>=2.24.0->apache_beam) (1.26.15)\n",
            "Installing collected packages: dill\n",
            "  Attempting uninstall: dill\n",
            "    Found existing installation: dill 0.3.6\n",
            "    Uninstalling dill-0.3.6:\n",
            "      Successfully uninstalled dill-0.3.6\n",
            "\u001b[31mERROR: pip's dependency resolver does not currently take into account all the packages that are installed. This behaviour is the source of the following dependency conflicts.\n",
            "multiprocess 0.70.14 requires dill>=0.3.6, but you have dill 0.3.1.1 which is incompatible.\u001b[0m\u001b[31m\n",
            "\u001b[0mSuccessfully installed dill-0.3.1.1\n",
            "Looking in indexes: https://pypi.org/simple, https://us-python.pkg.dev/colab-wheels/public/simple/\n",
            "Requirement already satisfied: transformers in /usr/local/lib/python3.9/dist-packages (4.27.3)\n",
            "Requirement already satisfied: tokenizers!=0.11.3,<0.14,>=0.11.1 in /usr/local/lib/python3.9/dist-packages (from transformers) (0.13.2)\n",
            "Requirement already satisfied: huggingface-hub<1.0,>=0.11.0 in /usr/local/lib/python3.9/dist-packages (from transformers) (0.13.3)\n",
            "Requirement already satisfied: tqdm>=4.27 in /usr/local/lib/python3.9/dist-packages (from transformers) (4.65.0)\n",
            "Requirement already satisfied: pyyaml>=5.1 in /usr/local/lib/python3.9/dist-packages (from transformers) (6.0)\n",
            "Requirement already satisfied: filelock in /usr/local/lib/python3.9/dist-packages (from transformers) (3.10.2)\n",
            "Requirement already satisfied: numpy>=1.17 in /usr/local/lib/python3.9/dist-packages (from transformers) (1.22.4)\n",
            "Requirement already satisfied: requests in /usr/local/lib/python3.9/dist-packages (from transformers) (2.27.1)\n",
            "Requirement already satisfied: packaging>=20.0 in /usr/local/lib/python3.9/dist-packages (from transformers) (23.0)\n",
            "Requirement already satisfied: regex!=2019.12.17 in /usr/local/lib/python3.9/dist-packages (from transformers) (2022.10.31)\n",
            "Requirement already satisfied: typing-extensions>=3.7.4.3 in /usr/local/lib/python3.9/dist-packages (from huggingface-hub<1.0,>=0.11.0->transformers) (4.5.0)\n",
            "Requirement already satisfied: urllib3<1.27,>=1.21.1 in /usr/local/lib/python3.9/dist-packages (from requests->transformers) (1.26.15)\n",
            "Requirement already satisfied: idna<4,>=2.5 in /usr/local/lib/python3.9/dist-packages (from requests->transformers) (3.4)\n",
            "Requirement already satisfied: charset-normalizer~=2.0.0 in /usr/local/lib/python3.9/dist-packages (from requests->transformers) (2.0.12)\n",
            "Requirement already satisfied: certifi>=2017.4.17 in /usr/local/lib/python3.9/dist-packages (from requests->transformers) (2022.12.7)\n",
            "Looking in indexes: https://pypi.org/simple, https://us-python.pkg.dev/colab-wheels/public/simple/\n",
            "Requirement already satisfied: datasets in /usr/local/lib/python3.9/dist-packages (2.10.1)\n",
            "Requirement already satisfied: huggingface-hub<1.0.0,>=0.2.0 in /usr/local/lib/python3.9/dist-packages (from datasets) (0.13.3)\n",
            "Requirement already satisfied: numpy>=1.17 in /usr/local/lib/python3.9/dist-packages (from datasets) (1.22.4)\n",
            "Requirement already satisfied: xxhash in /usr/local/lib/python3.9/dist-packages (from datasets) (3.2.0)\n",
            "Requirement already satisfied: multiprocess in /usr/local/lib/python3.9/dist-packages (from datasets) (0.70.14)\n",
            "Requirement already satisfied: dill<0.3.7,>=0.3.0 in /usr/local/lib/python3.9/dist-packages (from datasets) (0.3.1.1)\n",
            "Requirement already satisfied: tqdm>=4.62.1 in /usr/local/lib/python3.9/dist-packages (from datasets) (4.65.0)\n",
            "Requirement already satisfied: pyyaml>=5.1 in /usr/local/lib/python3.9/dist-packages (from datasets) (6.0)\n",
            "Requirement already satisfied: packaging in /usr/local/lib/python3.9/dist-packages (from datasets) (23.0)\n",
            "Requirement already satisfied: requests>=2.19.0 in /usr/local/lib/python3.9/dist-packages (from datasets) (2.27.1)\n",
            "Requirement already satisfied: fsspec[http]>=2021.11.1 in /usr/local/lib/python3.9/dist-packages (from datasets) (2023.3.0)\n",
            "Requirement already satisfied: responses<0.19 in /usr/local/lib/python3.9/dist-packages (from datasets) (0.18.0)\n",
            "Requirement already satisfied: aiohttp in /usr/local/lib/python3.9/dist-packages (from datasets) (3.8.4)\n",
            "Requirement already satisfied: pandas in /usr/local/lib/python3.9/dist-packages (from datasets) (1.4.4)\n",
            "Requirement already satisfied: pyarrow>=6.0.0 in /usr/local/lib/python3.9/dist-packages (from datasets) (9.0.0)\n",
            "Requirement already satisfied: aiosignal>=1.1.2 in /usr/local/lib/python3.9/dist-packages (from aiohttp->datasets) (1.3.1)\n",
            "Requirement already satisfied: attrs>=17.3.0 in /usr/local/lib/python3.9/dist-packages (from aiohttp->datasets) (22.2.0)\n",
            "Requirement already satisfied: charset-normalizer<4.0,>=2.0 in /usr/local/lib/python3.9/dist-packages (from aiohttp->datasets) (2.0.12)\n",
            "Requirement already satisfied: yarl<2.0,>=1.0 in /usr/local/lib/python3.9/dist-packages (from aiohttp->datasets) (1.8.2)\n",
            "Requirement already satisfied: async-timeout<5.0,>=4.0.0a3 in /usr/local/lib/python3.9/dist-packages (from aiohttp->datasets) (4.0.2)\n",
            "Requirement already satisfied: multidict<7.0,>=4.5 in /usr/local/lib/python3.9/dist-packages (from aiohttp->datasets) (6.0.4)\n",
            "Requirement already satisfied: frozenlist>=1.1.1 in /usr/local/lib/python3.9/dist-packages (from aiohttp->datasets) (1.3.3)\n",
            "Requirement already satisfied: filelock in /usr/local/lib/python3.9/dist-packages (from huggingface-hub<1.0.0,>=0.2.0->datasets) (3.10.2)\n",
            "Requirement already satisfied: typing-extensions>=3.7.4.3 in /usr/local/lib/python3.9/dist-packages (from huggingface-hub<1.0.0,>=0.2.0->datasets) (4.5.0)\n",
            "Requirement already satisfied: certifi>=2017.4.17 in /usr/local/lib/python3.9/dist-packages (from requests>=2.19.0->datasets) (2022.12.7)\n",
            "Requirement already satisfied: idna<4,>=2.5 in /usr/local/lib/python3.9/dist-packages (from requests>=2.19.0->datasets) (3.4)\n",
            "Requirement already satisfied: urllib3<1.27,>=1.21.1 in /usr/local/lib/python3.9/dist-packages (from requests>=2.19.0->datasets) (1.26.15)\n",
            "Collecting dill<0.3.7,>=0.3.0\n",
            "  Using cached dill-0.3.6-py3-none-any.whl (110 kB)\n",
            "Requirement already satisfied: python-dateutil>=2.8.1 in /usr/local/lib/python3.9/dist-packages (from pandas->datasets) (2.8.2)\n",
            "Requirement already satisfied: pytz>=2020.1 in /usr/local/lib/python3.9/dist-packages (from pandas->datasets) (2022.7.1)\n",
            "Requirement already satisfied: six>=1.5 in /usr/local/lib/python3.9/dist-packages (from python-dateutil>=2.8.1->pandas->datasets) (1.16.0)\n",
            "Installing collected packages: dill\n",
            "  Attempting uninstall: dill\n",
            "    Found existing installation: dill 0.3.1.1\n",
            "    Uninstalling dill-0.3.1.1:\n",
            "      Successfully uninstalled dill-0.3.1.1\n",
            "\u001b[31mERROR: pip's dependency resolver does not currently take into account all the packages that are installed. This behaviour is the source of the following dependency conflicts.\n",
            "apache-beam 2.46.0 requires dill<0.3.2,>=0.3.1.1, but you have dill 0.3.6 which is incompatible.\u001b[0m\u001b[31m\n",
            "\u001b[0mSuccessfully installed dill-0.3.6\n",
            "Looking in indexes: https://pypi.org/simple, https://us-python.pkg.dev/colab-wheels/public/simple/\n",
            "Collecting ftfy\n",
            "  Downloading ftfy-6.1.1-py3-none-any.whl (53 kB)\n",
            "\u001b[2K     \u001b[90m━━━━━━━━━━━━━━━━━━━━━━━━━━━━━━━━━━━━━━━━\u001b[0m \u001b[32m53.1/53.1 KB\u001b[0m \u001b[31m6.5 MB/s\u001b[0m eta \u001b[36m0:00:00\u001b[0m\n",
            "\u001b[?25hRequirement already satisfied: regex in /usr/local/lib/python3.9/dist-packages (2022.10.31)\n",
            "Requirement already satisfied: tqdm in /usr/local/lib/python3.9/dist-packages (4.65.0)\n",
            "Requirement already satisfied: wcwidth>=0.2.5 in /usr/local/lib/python3.9/dist-packages (from ftfy) (0.2.6)\n",
            "Installing collected packages: ftfy\n",
            "Successfully installed ftfy-6.1.1\n",
            "Looking in indexes: https://pypi.org/simple, https://us-python.pkg.dev/colab-wheels/public/simple/\n",
            "Collecting git+https://github.com/openai/CLIP.git\n",
            "  Cloning https://github.com/openai/CLIP.git to /tmp/pip-req-build-wzf2ru3v\n",
            "  Running command git clone --filter=blob:none --quiet https://github.com/openai/CLIP.git /tmp/pip-req-build-wzf2ru3v\n",
            "  Resolved https://github.com/openai/CLIP.git to commit a9b1bf5920416aaeaec965c25dd9e8f98c864f16\n",
            "  Preparing metadata (setup.py) ... \u001b[?25l\u001b[?25hdone\n",
            "Requirement already satisfied: ftfy in /usr/local/lib/python3.9/dist-packages (from clip==1.0) (6.1.1)\n",
            "Requirement already satisfied: regex in /usr/local/lib/python3.9/dist-packages (from clip==1.0) (2022.10.31)\n",
            "Requirement already satisfied: tqdm in /usr/local/lib/python3.9/dist-packages (from clip==1.0) (4.65.0)\n",
            "Requirement already satisfied: torch in /usr/local/lib/python3.9/dist-packages (from clip==1.0) (1.13.1+cu116)\n",
            "Requirement already satisfied: torchvision in /usr/local/lib/python3.9/dist-packages (from clip==1.0) (0.14.1+cu116)\n",
            "Requirement already satisfied: wcwidth>=0.2.5 in /usr/local/lib/python3.9/dist-packages (from ftfy->clip==1.0) (0.2.6)\n",
            "Requirement already satisfied: typing-extensions in /usr/local/lib/python3.9/dist-packages (from torch->clip==1.0) (4.5.0)\n",
            "Requirement already satisfied: requests in /usr/local/lib/python3.9/dist-packages (from torchvision->clip==1.0) (2.27.1)\n",
            "Requirement already satisfied: pillow!=8.3.*,>=5.3.0 in /usr/local/lib/python3.9/dist-packages (from torchvision->clip==1.0) (8.4.0)\n",
            "Requirement already satisfied: numpy in /usr/local/lib/python3.9/dist-packages (from torchvision->clip==1.0) (1.22.4)\n",
            "Requirement already satisfied: idna<4,>=2.5 in /usr/local/lib/python3.9/dist-packages (from requests->torchvision->clip==1.0) (3.4)\n",
            "Requirement already satisfied: urllib3<1.27,>=1.21.1 in /usr/local/lib/python3.9/dist-packages (from requests->torchvision->clip==1.0) (1.26.15)\n",
            "Requirement already satisfied: certifi>=2017.4.17 in /usr/local/lib/python3.9/dist-packages (from requests->torchvision->clip==1.0) (2022.12.7)\n",
            "Requirement already satisfied: charset-normalizer~=2.0.0 in /usr/local/lib/python3.9/dist-packages (from requests->torchvision->clip==1.0) (2.0.12)\n",
            "Building wheels for collected packages: clip\n",
            "  Building wheel for clip (setup.py) ... \u001b[?25l\u001b[?25hdone\n",
            "  Created wheel for clip: filename=clip-1.0-py3-none-any.whl size=1369398 sha256=cf2e8e8b9abe1ffd740a10489eba83f502e111e105d4418d99a19b0572df2f1d\n",
            "  Stored in directory: /tmp/pip-ephem-wheel-cache-79z0ykey/wheels/c8/e4/e1/11374c111387672fc2068dfbe0d4b424cb9cdd1b2e184a71b5\n",
            "Successfully built clip\n",
            "Installing collected packages: clip\n",
            "Successfully installed clip-1.0\n"
          ]
        }
      ],
      "source": [
        "!pip install apache_beam mwparserfromhell\n",
        "!pip install transformers\n",
        "!pip install datasets\n",
        "!pip install ftfy regex tqdm\n",
        "!pip install git+https://github.com/openai/CLIP.git\n",
        "\n",
        "# multilingual CLIP pretrained\n",
        "# https://github.com/FreddeFrallan/Multilingual-CLIP\n",
        "!pip install multilingual-clip"
      ]
    },
    {
      "cell_type": "markdown",
      "source": [
        "# Data Processing"
      ],
      "metadata": {
        "id": "sWOtaVj6Zlf1"
      }
    },
    {
      "cell_type": "code",
      "source": [
        "from datasets import load_dataset\n",
        "\n",
        "dataset = load_dataset(\"wikipedia\", \"20220301.simple\")"
      ],
      "metadata": {
        "colab": {
          "base_uri": "https://localhost:8080/",
          "height": 87,
          "referenced_widgets": [
            "91259bf8567d45848d98913c60cb8717",
            "f39b03cdb09242c8bbfda3d745594219",
            "a3db14a2faad4768981b2b7a70c3c038",
            "4b4577a8c2a7489eba6739b5e1148bea",
            "e49a9531c3bf42f0a42be60b37aaca72",
            "d3a13b29bd964f96bffecbac0606c6e8",
            "a706d8e4792249b8addc0175f1f98aed",
            "82446e3116c9489ab3af45f7c753790d",
            "a47dccd607a84627adc49415c2469339",
            "b2581ccf3ad84abfa7d4ae456a1cab60",
            "ba39da4ad4284b4a84cbe1428ffbdcc1"
          ]
        },
        "id": "ohhofFRj0sMy",
        "outputId": "e7af1cec-3dbc-40a3-9588-5bcb8df8ae89"
      },
      "execution_count": null,
      "outputs": [
        {
          "output_type": "stream",
          "name": "stderr",
          "text": [
            "WARNING:datasets.builder:Found cached dataset wikipedia (/root/.cache/huggingface/datasets/wikipedia/20220301.simple/2.0.0/aa542ed919df55cc5d3347f42dd4521d05ca68751f50dbc32bae2a7f1e167559)\n"
          ]
        },
        {
          "output_type": "display_data",
          "data": {
            "text/plain": [
              "  0%|          | 0/1 [00:00<?, ?it/s]"
            ],
            "application/vnd.jupyter.widget-view+json": {
              "version_major": 2,
              "version_minor": 0,
              "model_id": "91259bf8567d45848d98913c60cb8717"
            }
          },
          "metadata": {}
        }
      ]
    },
    {
      "cell_type": "code",
      "source": [
        "from transformers import BertTokenizer\n",
        "tokenizer = BertTokenizer.from_pretrained('bert-base-multilingual-cased')"
      ],
      "metadata": {
        "id": "j49MEp7YaY8c"
      },
      "execution_count": null,
      "outputs": []
    },
    {
      "cell_type": "code",
      "source": [
        "text = map(lambda x: x['text'].replace(\"\\n\", ' ').split(\". \"), dataset['train'])\n",
        "for t in text:\n",
        "  print(t)\n",
        "  break"
      ],
      "metadata": {
        "colab": {
          "base_uri": "https://localhost:8080/"
        },
        "id": "rqX89Co51UGD",
        "outputId": "97deab20-75e2-46ad-daba-cccccaabbe1f"
      },
      "execution_count": null,
      "outputs": [
        {
          "output_type": "stream",
          "name": "stdout",
          "text": [
            "['April is the fourth month of the year in the Julian and Gregorian calendars, and comes between March and May', 'It is one of four months to have 30 days', ' April always begins on the same day of week as July, and additionally, January in leap years', 'April always ends on the same day of the week as December', \" April's flowers are the Sweet Pea and Daisy\", 'Its birthstone is the diamond', 'The meaning of the diamond is innocence', ' The Month   April comes between March and May, making it the fourth month of the year', 'It also comes first in the year out of the four months that have 30 days, as June, September and November are later in the year', ' April begins on the same day of the week as July every year and on the same day of the week as January in leap years', \"April ends on the same day of the week as December every year, as each other's last days are exactly 35 weeks (245 days) apart\", ' In common years, April starts on the same day of the week as October of the previous year, and in leap years, May of the previous year', 'In common years, April finishes on the same day of the week as July of the previous year, and in leap years, February and October of the previous year', 'In common years immediately after other common years, April starts on the same day of the week as January of the previous year, and in leap years and years immediately after that, April finishes on the same day of the week as January of the previous year', ' In years immediately before common years, April starts on the same day of the week as September and December of the following year, and in years immediately before leap years, June of the following year', 'In years immediately before common years, April finishes on the same day of the week as September of the following year, and in years immediately before leap years, March and June of the following year', ' April is a spring month in the Northern Hemisphere and an autumn/fall month in the Southern Hemisphere', 'In each hemisphere, it is the seasonal equivalent of October in the other', ' It is unclear as to where April got its name', 'A common theory is that it comes from the Latin word \"aperire\", meaning \"to open\", referring to flowers opening in spring', 'Another theory is that the name could come from Aphrodite, the Greek goddess of love', 'It was originally the second month in the old Roman Calendar, before the start of the new year was put to January 1', ' Quite a few festivals are held in this month', 'In many Southeast Asian cultures, new year is celebrated in this month (including Songkran)', 'In Western Christianity, Easter can be celebrated on a Sunday between March 22 and April 25', 'In Orthodox Christianity, it can fall between April 4 and May 8', 'At the end of the month, Central and Northern European cultures celebrate Walpurgis Night on April 30, marking the transition from winter into summer', ' April in poetry  Poets use April to mean the end of winter', 'For example: April showers bring May flowers', \" Events in April  Fixed Events    April 1 - April Fools' Day  April 1 - Islamic Republic Day (Iran)  April 2 - International Children's Book Day  April 2 - Thai Heritage and Conservation Day  April 2 - World Autism Awareness Day  April 2 - Malvinas Day (Argentina)  April 4 - Independence Day (Senegal)  April 4 - International Day for Landmine Awareness and Assistance  April 4 - Peace Day (Angola)  April 5 - End of Tax Year (United Kingdom)  April 6 - Tartan Day (Canada and United States)  April 6 - Chakri Day (Thailand)  April 7 - Day of Maternity and Beauty (Armenia)  April 7 - Genocide Memorial Day (Rwanda)  April 7 - World Health Day  April 7 - Women's Day (Mozambique)  April 8 - Buddha's Birthday (Buddhism)  April 9 - Martyrs' Day (Tunisia)  April 9 - Day of National Unity (Georgia)  April 9 - Day of the Finnish language  April 12 - Cosmonauts' Day (Russia), marking the day of Yuri Gagarin's space flight  April 13 - Songkan (Laos), local New Year celebration  April 13 - Cambodian New Year  April 13 - Thomas Jefferson's Birthday (United States)  April 14 - Southeast Asian New Year festivals, including Songkran  April 14 - Georgian language Day  April 14 - Youth Day (Angola)  April 14 - Ambedkar Tayanti (India)  April 14 - Pan-American Day  April 15 - Tax Day (United States)  April 15 - Kim Il-Sung's Birthday (North Korea)  April 15 - Father Damien Day (Hawaii)  April 15 - Jackie Robinson Day (Major League Baseball)  April 16 - Birthday of Queen Margrethe II of Denmark  April 16 - Emancipation Day (Washington, DC)  April 16 - World Voice Day  April 16 - Selena Day (Texas)  April 17 - National Day of Syria  April 17 - Flag Day (American Samoa)  April 17 - Women's Day (Gabon)  April 17 - World Hemophilia Day  April 18 - Independence Day (Zimbabwe)  April 18 - Invention Day (Japan)  April 18 - International Day of Monuments and Sites  April 19 - Bicycle Day  April 19 - Dutch-American Friendship Day  April 19 - Birthday of King Mswati III of Swaziland  April 19 - Patriots' Day (Massachusetts, Maine, Wisconsin)  April 20 - 4/20 in Cannabis Culture  April 21 - John Muir Day (California)  April 21 - San Jacinto Day (Texas)  April 21 - Kartini Day (Indonesia)  April 21 - National Tree Planting Day (Kenya)  April 21 - First Day of Ridran (Baha'i faith)  April 21 - Grounation Day (Rastafari movement)  April 22 - Earth Day  April 22 - Discovery Day (Brazil)  April 23 - Saint George's Day, celebrating the patron saint of several countries, regions and cities (including England and Catalonia)  April 23 - World Book Day  April 23 - National Sovereignty and Children's Day (Turkey)  April 24 - Democracy Day (Nepal)  April 24 - Genocide Day (Armenia)  April 24 - Republic Day (the Gambia)  April 25 - Australia and New Zealand celebrate ANZAC Day\", 'ANZAC  means Australian and New Zealand Army Corps, and began in 1915', \" April 25 - World DNA Day  April 25 - World Malaria Day  April 25 - Flag Day (Swaziland, Faroe Islands)  April 25 - Freedom Day (Portugal)  April 25 - Liberation Day (Italy)  April 25 - Army Day (North Korea)  April 26 - Union Day (Tanzania)  April 26 - Confederate Memorial Day (Texas, Florida)  April 27 - Independence Day (Sierra Leone and Togo)  April 27 - Freedom Day (South Africa)  April 27 - World Tapir Day  April 27 - King's Day (Netherlands) from 2014, birthday of Willem-Alexander of the Netherlands  April 28 - Workers Memorial Day  April 28 - National Day (Sardinia)  April 28 - National Heroes Day (Barbados)  April 29 - Showa Day (Japan), birthday of Emperor Hirohito, who died in 1989  April 29 - International Dance Day  April 30 - Former Queen's Day Holiday in the Netherlands (changed to King's Day, April 27 in 2014), was the birthday of former Queen Juliana of the Netherlands  April 30 - Flag Day in Sweden (birthday of King Carl XVI Gustaf of Sweden)  April 30 - International Jazz Day  April 30 - Walpurgis Night (Central and Northern Europe)  Moveable Events    Easter-related events in Western Christianity:  Palm Sunday (between March 15 and April 18)  Maundy Thursday (between March 19 and April 22)  Good Friday (between March 20 and April 23)  Easter Sunday (between March 22 and April 25)  Easter Monday (between March 23 and April 26)  Eastern Orthodox Easter falls between April 4 and May 8\", ' Ascension Day (Western Christianity), falls between April 30 and June 3', \" Jewish Passover - falls in the same week as Western Christianity's Holy Week, which is the week leading up to Easter\", \" Mother's Day (UK) falls between March 1 and April 4\", ' World Snooker Championship (late April, early May)  Horse racing - Grand National (UK), Kentucky Derby (United States)  Start of Daylight Saving Time - Clocks going forward one hour:  Most of Mexico  Morocco (Ramadan does not include Daylight Saving Time)  End of Daylight Saving Time - Clocks going back one hour:  Southeast Australia, and New Zealand  Chile  Marathon Events in the following cities:  Belgrade, Serbia  Boston, Massachusetts, United States  Brighton, United Kingdom  Enschede, Netherlands  London, United Kingdom  Madrid, Spain  Paris, France  Rotterdam, Netherlands  Utrecht, Netherlands  Zurich, Switzerland  Selection of Historical Events    April 1, 1918 - The Royal Air Force is founded', ' April 1, 1976 - Apple Inc', 'is founded', ' April 1, 1979 - The Islamic Republic of Iran is founded', ' April 1, 1999 - The territory of Nunavut is created in Northern Canada', ' April 1, 2001 - The Netherlands introduces same-sex marriage, as the first country to do so', ' April 2, 1519 - Florida is sighted by a European for the first time', ' April 2, 1930 - Haile Selassie becomes Emperor of Ethiopia', ' April 2, 1982 - Start of the Falklands War, as Argentine forces land on the Falkland Islands', ' April 2, 2005 - Pope John Paul II dies aged 84, after 26-and-a-half years as Pope', ' April 3, 1973 - The first-ever mobile phone call is placed by Martin Cooper in New York City', ' April 4, 1721 - Robert Walpole becomes the first Prime Minister of Great Britain', ' April 4, 1841 - William Henry Harrison dies', 'He was President of the United States for 31 days, the shortest-ever time in office for a US President', ' April 4, 1960 - Senegal becomes independent', ' April 4, 1968 - Assassination of Martin Luther King, Jr', 'in Memphis, Tennessee', ' April 5, 1722 - Jacob Roggeveen becomes the first European to land on Easter Island, landing there on Easter Sunday', \" April 6, 1320 - Scotland's independence is confirmed with the Declaration of Arbroath\", ' April 6, 1830 - The Mormon Church is founded', ' April 6, 1909 - Robert Peary claims to have been first at the North Pole on this date', ' April 7, 1994 - The Rwandan Genocide begins', ' April 9, 1865 - American Civil War: Confederate forces under Robert E', 'Lee surrender to Union forces', ' April 9, 1940 - World War II: Denmark and Norway are invaded by Nazi Germany', ' April 9, 1989 - April 9 tragedy: In Tbilisi, Georgia, a peaceful demonstration for independence is broken up by the Soviet Army, killing 20 people', 'The country gains independence on this date exactly two years later', \" April 10, 1815 - Mount Tambora in Indonesia erupts in a huge eruption, affecting the world's climate for at least a year\", ' April 10, 2010 - A plane crash near Smolensk, Russia, kills several people who were important in Poland, including President Lech Kaczynski', ' April 11, 1814 - Napoleon Bonaparte is exiled to the island of Elba', ' April 11, 1954 - Said to have been the most boring day of the 20th century', ' April 12, 1861 - The American Civil War begins at Fort Sumter, Charleston, South Carolina', ' April 12, 1945 - US President Franklin D', 'Roosevelt dies, and Harry S', 'Truman replaces him', ' April 12, 1961 - Yuri Gagarin becomes the first human to fly into space', \" April 14, 1865 - US President Abraham Lincoln is shot dead at Ford's Theatre by John Wilkes Booth\", 'Lincoln dies the next day', ' April 14, 2010 - Qinghai Province, China, is hit by an earthquake, killing tens of thousands of people', ' April 14, 2010 - The eruption of Eyjafjallajokull in Iceland shuts down air traffic around Europe for a week, due to its ash cloud', ' April 15, 1912 - The ship RMS Titanic sinks near Newfoundland after hitting an iceberg, resulting in the deaths of many of the people on board', \" April 16, 1943 - Albert Hofmann discovers LSD's effects\", ' April 17, 1946 - Syria gains full independence from France', ' April 18, 1906 - 1906 San Francisco earthquake: San Francisco, California, is hit by a big earthquake, resulting in fires that destroy large parts of the city', ' April 18, 1980 - Zimbabwe gains full independence', ' April 19, 1897 - The first Boston Marathon is held', ' April 19, 1971 - Sierra Leone becomes a republic', ' April 19, 1993 - The siege of the Branch Davidians at Waco, Texas, ends in a fire that kills 82 people', ' April 19, 1995 - Timothy McVeigh carries out the Oklahoma City bombing, killing 169 people', ' April 19, 2005 - Joseph Alois Ratzinger becomes Pope Benedict XVI', ' April 20, 1902 - Marie Curie and Pierre Curie refine Radium', ' April 20, 2010 - Deepwater Horizon oil spill: A massive fire on the Deepwater Horizon drilling rig in the Gulf of Mexico kills 11 workers and causes a massive oil spill, the worst spill in US history', ' April 21, 753 BC - Legendary founding date of Rome  April 21, 1509 - Henry VIII of England becomes King', ' April 21, 1908 - Frederick Cook claims to have reached the North Pole on this date', ' April 22, 1502 - Pedro Alvares Cabral becomes the first European to reach present-day Brazil', ' April 22, 1970 - Earth Day is observed for the first time', ' April 23, 1533 - The Church of England declares that Henry VIII of England and Catherine of Aragon are not married', ' April 24, 1916 - The Easter Rising occurs in Dublin, Ireland', ' April 24, 1990 - The Hubble Space Telescope is launched on the Space Shuttle Discovery', ' April 25, 1915 - World War I: In Turkey, the Battle of Gallipoli begins, Australian, French, British and New Zealand forces land at Anzac cove', \" April 25, 1974 - Portugal's dictatorship is overthrown in a coup, in what is known as the Carnation Revolution\", ' April 26, 1937 - Spanish Civil War: German planes bomb the town of Guernica, Basque Country, later depicted in a painting by Pablo Picasso', ' April 26, 1964 - Tanganyika and Zanzibar merge to form Tanzania', ' April 26, 1986 - A reactor explosion occurs at the Chernobyl nuclear plant in present-day Ukraine, with radiation spreading around Europe and the world', ' April 26/27, 1994 - South Africa holds its first free elections', ' April 27, 1960 - Togo becomes independent from France', ' April 27, 1961 - Sierra Leone becomes independent from the United Kingdom', ' April 28, 1789 - Mutiny on the ship Bounty in the Pacific Ocean, lead by Fletcher Christian', ' April 28, 1945 - Benito Mussolini is executed by Italian partisans', \" April 28, 1947 - In Peru, Thor Heyerdahl starts his Kon-Tiki expedition aimed at proving his theory that the Polynesian settlers on the Pacific Ocean's islands came from South America\", ' April 29, 1991 - A cyclone in Bangladesh kills an estimated 138,000 people', ' April 29, 2011 - The wedding of Prince William, Duke of Cambridge and Catherine, Duchess of Cambridge is broadcast worldwide', ' April 30, 1789 - George Washington becomes the first President of the United States', ' April 30, 1803 - The United States purchases (buys) the Louisiana territory from France', \" April 30, 1945 - Adolf Hitler commits suicide on the same day that the Soviet Army raises the Red Flag on Berlin's Reichstag\", ' April 30, 1952 - The Diary of Anne Frank is published in English', ' April 30, 1975 - The Vietnam War ends, as North Vietnamese forces take Saigon', ' April 30, 1980 - Queen Juliana of the Netherlands abdicates the throne, and her daughter becomes Queen Beatrix of the Netherlands', 'Beatrix later also abdicates, on this day in 2013, in favor of her son, King Willem-Alexander of the Netherlands', ' Trivia    In Western Christianity, there is a bigger likelihood of Easter falling in April than in March', \" The months around April (March and May) both start with an 'M' in the English language, with an 'A' as the second letter\", ' In the English language, April is the first of three months in-a-row, along with May and June, that is also a female given name', ' The astrological signs for April are Aries (March 21 to April 20) and Taurus (April 21 to May 20)', ' The sweet pea and daisy are the traditional birth flowers for April', ' Birthstone for April is the Diamond', 'April 1 is the only day in April to start within the first quarter of the calendar year', ' If the months of the year were arranged in alphabetical order in the English language, April would come first', ' Six current European monarchs were born in April', 'They are King Philippe of Belgium (April 15), Queen Margrethe II of Denmark (April 16), Henri, Grand Duke of Luxembourg (April 16), Elizabeth II of the United Kingdom and Commonwealth realms (April 21), King Willem-Alexander of the Netherlands (April 27), and King Carl XVI Gustaf of Sweden (April 30)', ' References']\n"
          ]
        }
      ]
    },
    {
      "cell_type": "code",
      "source": [
        "import torch\n",
        "import torchtext\n",
        "import clip\n",
        "import numpy as np\n",
        "\n",
        "device = \"cuda\" if torch.cuda.is_available() else \"cpu\"\n",
        "model, preprocess = clip.load(\"ViT-B/32\", device=device)\n",
        "\n",
        "glove = torchtext.vocab.GloVe(name=\"6B\", dim=50)\n",
        "ft = torchtext.vocab.FastText(language=\"simple\")"
      ],
      "metadata": {
        "id": "lQAoFq3n3F2R"
      },
      "execution_count": null,
      "outputs": []
    },
    {
      "cell_type": "code",
      "source": [
        "train_data = []\n",
        "\n",
        "for (i, t) in enumerate(text):\n",
        "  if i > 100:\n",
        "    break\n",
        "  sentence = t[0][:64]\n",
        "  tokenized = clip.tokenize([sentence]).to(device)\n",
        "  text_embed = model.encode_text(tokenized)[0]\n",
        "  # glove_embed = np.array([glove[w] for w in sentence.lower().split(' ')])\n",
        "  # ft_embed = np.array([ft[w] for w in sentence.lower().split(' ')])\n",
        "  train_data.append((text_embed, glove_embed, ft_embed, sentence))"
      ],
      "metadata": {
        "colab": {
          "base_uri": "https://localhost:8080/"
        },
        "id": "6fhCyTYB_UCR",
        "outputId": "42d1cb35-b954-4336-9b53-ff408322b4a8"
      },
      "execution_count": null,
      "outputs": [
        {
          "output_type": "stream",
          "name": "stderr",
          "text": [
            "<ipython-input-88-aaef1c69e440>:9: FutureWarning: The input object of type 'Tensor' is an array-like implementing one of the corresponding protocols (`__array__`, `__array_interface__` or `__array_struct__`); but not a sequence (or 0-D). In the future, this object will be coerced as if it was first converted using `np.array(obj)`. To retain the old behaviour, you have to either modify the type 'Tensor', or assign to an empty array created with `np.empty(correct_shape, dtype=object)`.\n",
            "  glove_embed = np.array([glove[w] for w in sentence.lower().split(' ')])\n",
            "<ipython-input-88-aaef1c69e440>:9: VisibleDeprecationWarning: Creating an ndarray from ragged nested sequences (which is a list-or-tuple of lists-or-tuples-or ndarrays with different lengths or shapes) is deprecated. If you meant to do this, you must specify 'dtype=object' when creating the ndarray.\n",
            "  glove_embed = np.array([glove[w] for w in sentence.lower().split(' ')])\n",
            "<ipython-input-88-aaef1c69e440>:10: FutureWarning: The input object of type 'Tensor' is an array-like implementing one of the corresponding protocols (`__array__`, `__array_interface__` or `__array_struct__`); but not a sequence (or 0-D). In the future, this object will be coerced as if it was first converted using `np.array(obj)`. To retain the old behaviour, you have to either modify the type 'Tensor', or assign to an empty array created with `np.empty(correct_shape, dtype=object)`.\n",
            "  ft_embed = np.array([ft[w] for w in sentence.lower().split(' ')])\n",
            "<ipython-input-88-aaef1c69e440>:10: VisibleDeprecationWarning: Creating an ndarray from ragged nested sequences (which is a list-or-tuple of lists-or-tuples-or ndarrays with different lengths or shapes) is deprecated. If you meant to do this, you must specify 'dtype=object' when creating the ndarray.\n",
            "  ft_embed = np.array([ft[w] for w in sentence.lower().split(' ')])\n"
          ]
        }
      ]
    },
    {
      "cell_type": "code",
      "source": [
        "from torch import nn\n",
        "\n",
        "class Model(nn.Module):\n",
        "  def __init__(self, dim_size=512, vocab_size=100):\n",
        "    super().__init__()\n",
        "\n",
        "    # decoder_layer = nn.TransformerDecoderLayer(d_model=512, nhead=8)\n",
        "    # self.decoder = nn.TransformerDecoder(decoder_layer, num_layers=6)\n",
        "    self.linear = nn.Linear(dim_size, 200)\n",
        "    self.out = nn.Linear(200, vocab_size)\n",
        "\n",
        "  # def forward(self, tgt, embed):\n",
        "  def forward(self, embed):\n",
        "    # x = self.decoder(tgt, embed)\n",
        "    x = self.linear(embed)\n",
        "    out = self.out(x)\n",
        "    return out\n",
        "\n",
        "# tgt = torch.rand(3, 512)\n",
        "# emb = text_embed.unsqueeze(0).to('cpu').float()\n",
        "m = Model(50).to(device)\n",
        "emb = glove_embed[0].to(device)\n",
        "m(emb)"
      ],
      "metadata": {
        "colab": {
          "base_uri": "https://localhost:8080/"
        },
        "id": "WV5jX31L8rQY",
        "outputId": "39ea8ae9-0ec9-47ad-f1d6-19ed08798457"
      },
      "execution_count": null,
      "outputs": [
        {
          "output_type": "execute_result",
          "data": {
            "text/plain": [
              "tensor([ 0.0428, -0.0741,  0.0274, -0.1030,  0.0718, -0.0057, -0.0272, -0.0181,\n",
              "        -0.0273, -0.0299, -0.0094, -0.0501,  0.1002,  0.0049, -0.0288,  0.0943,\n",
              "        -0.0523,  0.0017, -0.0465,  0.0577, -0.0921,  0.0516, -0.1224, -0.0045,\n",
              "         0.0420,  0.0309, -0.0411,  0.0636,  0.0137, -0.0598,  0.0636,  0.0916,\n",
              "         0.0505,  0.0959,  0.0285,  0.0749, -0.0593, -0.1139, -0.0999, -0.0619,\n",
              "        -0.0224, -0.0639,  0.0283,  0.1198,  0.0741,  0.0672,  0.0334, -0.0489,\n",
              "        -0.1361, -0.0407, -0.0183,  0.0418, -0.0190,  0.0086,  0.0899, -0.0889,\n",
              "         0.0543, -0.0384, -0.1100,  0.0264,  0.0350,  0.1541, -0.0813,  0.0545,\n",
              "         0.0974, -0.0133,  0.0315,  0.0020,  0.0708,  0.0498,  0.0580,  0.0529,\n",
              "        -0.0125,  0.0076, -0.0039, -0.0302, -0.1122,  0.0013, -0.0889,  0.0372,\n",
              "        -0.0076,  0.1071, -0.0120,  0.0055,  0.0826,  0.0725,  0.0828, -0.0580,\n",
              "        -0.0491, -0.0109,  0.1005,  0.0774,  0.0080, -0.0033, -0.0349, -0.0132,\n",
              "         0.0623, -0.0033,  0.0979, -0.0106], device='cuda:0',\n",
              "       grad_fn=<AddBackward0>)"
            ]
          },
          "metadata": {},
          "execution_count": 99
        }
      ]
    },
    {
      "cell_type": "markdown",
      "source": [
        "# GAN+Autoencoder Idea\n",
        "![Diagram](https://media.discordapp.net/attachments/1085342382679138385/1090810686793318491/image.png?width=1440&height=592)\n",
        "Orange represents the zeroshot translation task"
      ],
      "metadata": {
        "id": "eB0NhhxkSKnG"
      }
    },
    {
      "cell_type": "markdown",
      "source": [
        "## Define Models\n",
        "\n",
        "We will create 4 models:\n",
        "1. Monolingual generator (expert at i.e. FR, DE) - transformer encoder+decoder\n",
        "2. CLIP Embedding Decoder - transformer decoders\n",
        "3. Discriminator - linear neural network (subject to change)\n",
        "4. Translator - two linear parts from embedding space to embedding space (thought of as a transform function from FR -> EN, and the inverse EN -> FR)\n",
        "\n",
        "We refer to 2 agents that are learning to understand their respective languages, both represented by transformers.\n",
        "`Base expert` is the agent that 'understands' English (from CLIP).\n",
        "`Other expert` is agent that is an expert of the other language."
      ],
      "metadata": {
        "id": "JOIeUeVNZGQh"
      }
    },
    {
      "cell_type": "code",
      "source": [
        "# https://pytorch.org/tutorials/beginner/transformer_tutorial.html\n",
        "class PositionalEncoding(nn.Module):\n",
        "  def __init__(self, d_model: int, dropout: float = 0.1, max_len: int = 5000):\n",
        "    super().__init__()\n",
        "    self.dropout = nn.Dropout(p=dropout)\n",
        "\n",
        "    position = torch.arange(max_len).unsqueeze(1)\n",
        "    div_term = torch.exp(torch.arange(0, d_model, 2) * (-math.log(10000.0) / d_model))\n",
        "    pe = torch.zeros(max_len, 1, d_model)\n",
        "    pe[:, 0, 0::2] = torch.sin(position * div_term)\n",
        "    pe[:, 0, 1::2] = torch.cos(position * div_term)\n",
        "    self.register_buffer('pe', pe)\n",
        "\n",
        "  def forward(self, x: Tensor) -> Tensor:\n",
        "    \"\"\"\n",
        "    Args:\n",
        "        x: Tensor, shape [seq_len, batch_size, embedding_dim]\n",
        "    \"\"\"\n",
        "    x = x + self.pe[:x.size(0)]\n",
        "    return self.dropout(x)\n",
        "\n",
        "# https://jamesmccaffrey.wordpress.com/2022/09/09/simplest-transformer-seq-to-seq-example/\n",
        "class Generator(nn.Module): # same language/monolingual\n",
        "  def __init__(self, ntoken: int, d_model: int = 512, nhead: int = 4, d_hid: int = 512,\n",
        "               nlayers: int = 4, dropout: float = 0.5):\n",
        "    super().__init__()\n",
        "\n",
        "    self.model_type = 'Transformer'\n",
        "\n",
        "    self.embed = nn.Embedding(ntoken, d_model)\n",
        "\n",
        "    self.pos_encoder = PositionalEncoding(d_model, dropout)\n",
        "    encoder_layers = TransformerEncoderLayer(d_model, nhead, d_hid, dropout)\n",
        "    self.transformer_encoder = TransformerEncoder(encoder_layers, nlayers)\n",
        "    self.encoder = nn.Embedding(ntoken, d_model)\n",
        "\n",
        "    decoder_layers = TransformerDecoderLayer(d_model, nhead, d_hid, dropout)\n",
        "    self.decoder = nn.TransformerDecoder(d_model)\n",
        "\n",
        "    self.d_model = d_model\n",
        "\n",
        "    self.dense = nn.linear(d_model, ntoken)\n",
        "\n",
        "    self.init_weights()\n",
        "\n",
        "  def init_weights(self) -> None:\n",
        "    initrange = 0.1\n",
        "    self.encoder.weight.data.uniform_(-initrange, initrange)\n",
        "    self.decoder.weight.data.uniform_(-initrange, initrange)\n",
        "    self.dense.bias.data.zero_()\n",
        "\n",
        "  def forward(self, src, tgt, tgt_mask):\n",
        "    s = self.embed(src)\n",
        "    t = self.embed(tgt)\n",
        "\n",
        "    s = self.pos_enc(s)\n",
        "    t = self.pos_enc(t)\n",
        "\n",
        "    e = self.encoder(s)\n",
        "    d = self.decoder(tgt, e, tgt_mask=tgt_mask)\n",
        "    z = nn.functional.softmax(self.dense(d))\n",
        "    return z\n",
        "\n",
        "class Translator(nn.Module):\n",
        "  def __init__(self, i_embed_size = 512, o_embed_size = 512, nlayers = 1, hidden = 1024):\n",
        "    super().__init__()\n",
        "    \n",
        "    # based off https://arxiv.org/abs/1809.03633\n",
        "    self.G = nn.Sequential(nn.linear(i_embed_size, hidden))\n",
        "    self.F = nn.Sequential(nn.linear(o_embed_size, hidden))\n",
        "    for i in range(nlayers-1):\n",
        "      self.G.append(nn.linear(hidden, hidden))\n",
        "      self.F.append(nn.linear(hidden, hidden))\n",
        "    self.G.append(nn.linear(hidden, o_embed_size))\n",
        "    self.F.append(nn.linear(hidden, i_embed_size))\n",
        "\n",
        "  def forward(self, i_emb):\n",
        "    o = G(i_emb)\n",
        "    i = F(o) # inverse, ideally returns i_emb\n",
        "    return o, i"
      ],
      "metadata": {
        "id": "IIZjQ5GwAftg"
      },
      "execution_count": null,
      "outputs": []
    },
    {
      "cell_type": "markdown",
      "source": [
        "## Train Loop\n",
        "\n",
        "PyTorch training for GAN:\n",
        "[PyTorch blog](https://pytorch.org/tutorials/beginner/dcgan_faces_tutorial.html)"
      ],
      "metadata": {
        "id": "VhYGAHMKZJhV"
      }
    },
    {
      "cell_type": "code",
      "source": [
        "from torch import optim\n",
        "# https://huggingface.co/docs/transformers/main_classes/optimizer_schedules#transformers.Adafactor\n",
        "from transformers.optimization import Adafactor\n",
        "\n",
        "generator = Generator(10000) # temp vocab size\n",
        "\n",
        "context_length = 64\n",
        "\n",
        "# TODO: add device specific code\n",
        "\n",
        "def train(real_decoder, generator, discriminator, translate, # our four models\n",
        "          real_train, other_train, real_valid = None, other_valid = None,\n",
        "          epochs = 10, batch_size = 256):\n",
        "  batch_data = []\n",
        "\n",
        "  criterion = nn.CrossEntropyLoss()\n",
        "\n",
        "  # r_optim = optim.RAdam(real_decoder.parameters())\n",
        "  # g_optim = optim.RAdam(generator.parameters())\n",
        "  r_optim = Adafactor(real_decoder.parameters())\n",
        "  g_optim = Adafactor(generator.parameters())\n",
        "  t_optim = Adafactor(translate.parameters())\n",
        "  d_optim = optim.Adam(discriminator.parameters())\n",
        "\n",
        "  r_iterations = real_train.shape[0] // batch_size\n",
        "  o_iterations = other_train.shape[0] // batch_size\n",
        "\n",
        "  n = min(r_iterations, o_iterations)\n",
        "\n",
        "  for e in epochs:\n",
        "    epoch_loss = 0\n",
        "    print(f'Epoch {e+1}:')\n",
        "    for i, (r_x, o_x) in enumerate(data_loader):\n",
        "      if r_x.shape[0] % batch_size != 0: # not full batch\n",
        "        break\n",
        "      if (i + 1) % 100 == 0:\n",
        "        print(f'Iteration {i+1} of {n}')\n",
        "\n",
        "      # learn decoder\n",
        "      r_optim.zero_grad()\n",
        "      ...\n",
        "\n",
        "      # \"other\" generator autoencoding\n",
        "      # https://jamesmccaffrey.wordpress.com/2022/09/09/simplest-transformer-seq-to-seq-example/\n",
        "      tgt_in = tgt[:,:-1]\n",
        "      tgt_expect = tgt[:,1:]\n",
        "      t_mask = T.nn.Transformer.generate_square_subsequent_mask(context_length)\n",
        "\n",
        "      output = generator(src, tgt_in, tgt_mask=t_mask) # [bs,seq,vocab]\n",
        "\n",
        "      # get preds shape to conform to tgt_expect\n",
        "      output = output.permute(0,2,1)  # now [bs, vocab, seq]\n",
        "\n",
        "      loss = criterion(output, tgt_expect)\n",
        "      epoch_loss += loss.item()\n",
        "\n",
        "      g_optim.zero_grad()\n",
        "      loss.backward()\n",
        "      g_optim.step()"
      ],
      "metadata": {
        "id": "XFinB2ZTMh7B"
      },
      "execution_count": null,
      "outputs": []
    }
  ]
}